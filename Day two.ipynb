{
 "cells": [
  {
   "cell_type": "markdown",
   "metadata": {},
   "source": [
    "# Day Two"
   ]
  },
  {
   "cell_type": "markdown",
   "metadata": {},
   "source": [
    "Ce matin : manipulation de fichier et commandes système\n",
    "Il faut s'assurer qu'un fichier / connexion soit fermé. Pour ça, il existe un gestionnaire de contexte qui simplifie les TRY / EXCEPT : \"WITH\"\n",
    "(fichier authors.txt : PF members)"
   ]
  },
  {
   "cell_type": "code",
   "execution_count": 22,
   "metadata": {},
   "outputs": [
    {
     "name": "stdout",
     "output_type": "stream",
     "text": [
      "['Roger Waters\\n', 'David Gilmour\\n', 'Nick Manson\\n', 'Rick Wright']\n",
      "Fichier Fermé ? True\n"
     ]
    }
   ],
   "source": [
    "# exemple ouverture fichier en read only\n",
    "with open(\"authors.txt\",\"r\") as fh:            # fh = file handle. Tête de lecture sur le fichier\n",
    "    #for line in fh:       # methode 1 : boucle sur chaque ligne\n",
    "        #print(line+\"\\n\")  # methode 1\n",
    "        #print(line.split()[0]+\"     \"+ line.split()[1]+\"\\n\") \n",
    "    print(fh.readlines()) # methode 2 : retourne une chaine de caractères\n",
    "print(\"Fichier Fermé ? \"+str(fh.closed))  # True : le fichier est automatiquement clos à la sortie du bloc with"
   ]
  },
  {
   "cell_type": "markdown",
   "metadata": {},
   "source": [
    "Pour les chemins Windows : r\"c:\\bla\\bla\\bla\\\" (\"r\" = raw pour une chaine) ou remplacer \"\\\" par \"/\", ça fonctionne aussi"
   ]
  },
  {
   "cell_type": "code",
   "execution_count": 23,
   "metadata": {},
   "outputs": [],
   "source": [
    "import json"
   ]
  },
  {
   "cell_type": "code",
   "execution_count": 31,
   "metadata": {},
   "outputs": [],
   "source": [
    "with open(\"/home/hellday/Téléchargements/reporter/data/authors.json\",\"r\") as authors_file:\n",
    "    authors = json.load(authors_file) # json en natif. Chaine -> liste de dictionnaires\n",
    "    \n",
    "    "
   ]
  },
  {
   "cell_type": "code",
   "execution_count": 32,
   "metadata": {},
   "outputs": [
    {
     "data": {
      "text/plain": [
       "[{'firstname': 'John',\n",
       "  'lastname': 'Lennon',\n",
       "  'address': 'Abbey Road',\n",
       "  'age': 37},\n",
       " {'firstname': 'Paul',\n",
       "  'lastname': 'MacCartney',\n",
       "  'address': 'Abbey Road',\n",
       "  'age': 27,\n",
       "  'email': 'paul@thebeatles.org'},\n",
       " {'firstname': 'Georges',\n",
       "  'lastname': 'Harrison',\n",
       "  'address': 'Abbey Road',\n",
       "  'age': 27,\n",
       "  'email': 'george@thebeatles.org'}]"
      ]
     },
     "execution_count": 32,
     "metadata": {},
     "output_type": "execute_result"
    }
   ],
   "source": [
    "authors\n"
   ]
  },
  {
   "cell_type": "code",
   "execution_count": 42,
   "metadata": {},
   "outputs": [
    {
     "name": "stdout",
     "output_type": "stream",
     "text": [
      "John - Lennon\n",
      "Paul - MacCartney\n",
      "Georges - Harrison\n"
     ]
    }
   ],
   "source": [
    "for member in authors: # parcours des dictionnaires\n",
    "    print(member[\"firstname\"]+ \" - \"+member[\"lastname\"])"
   ]
  },
  {
   "cell_type": "code",
   "execution_count": 43,
   "metadata": {},
   "outputs": [
    {
     "data": {
      "text/plain": [
       "'/home/hellday/reporter'"
      ]
     },
     "execution_count": 43,
     "metadata": {},
     "output_type": "execute_result"
    }
   ],
   "source": [
    "import os\n",
    "os.path.join(\"/home\",\"hellday\",\"reporter\") # vieille méthode pour composer des cheminss"
   ]
  },
  {
   "cell_type": "code",
   "execution_count": 55,
   "metadata": {},
   "outputs": [
    {
     "data": {
      "text/plain": [
       "False"
      ]
     },
     "execution_count": 55,
     "metadata": {},
     "output_type": "execute_result"
    }
   ],
   "source": [
    "from pathlib import Path # module plus sympa\n",
    "base_path = Path(os.environ[\"HOME\"]) \n",
    "base_path/\"mon_dir1/mon_dir2\" # on peut composer directement si un rep existe\n",
    "base_path.is_file() # on peut tester existence\n"
   ]
  },
  {
   "cell_type": "markdown",
   "metadata": {},
   "source": [
    "1) ouvrir fichier authors.json et appeler fonction create_header\n",
    "argument : nom de fichier "
   ]
  },
  {
   "cell_type": "markdown",
   "metadata": {},
   "source": [
    "Conseil : \"il faut soigner les interfaces car tout se passe par là\". \n",
    "\"_ma_fonction\" : le \"_\" signifie \"privée\", normalement par desinée aux utilisateurs (A.K.A \"tambouille interne\"\n",
    "\n",
    "module \"warnings\" : fonction warn() qui permet de remonter des messages. \n",
    "A voir : module logging, shutil \n",
    "Packager : python wheel ? \n",
    "Note : la ligne \"def ma_fonction(mes_args)\" = la \"signature\" de la fonction.\n"
   ]
  },
  {
   "cell_type": "code",
   "execution_count": 108,
   "metadata": {},
   "outputs": [],
   "source": [
    "import os\n",
    "import sys\n",
    "import json\n",
    "import datetime\n",
    "from pathlib import Path\n",
    "\n",
    "\n",
    "def create_header(authors_list, loc=\"Paris\"):\n",
    "    \"\"\"Creates the header text.\n",
    "    \n",
    "    Parameters\n",
    "    ----------\n",
    "    authors_list: a list of dict\n",
    "        each dictionnary should contain \"firstname\" and \"lastname\" keys\n",
    "    loc : str, optional, default \"Paris\"\n",
    "        The localistaion from where the report is emitted\n",
    "    \n",
    "    Returns\n",
    "    -------\n",
    "    header_text : str\n",
    "        The header text\n",
    "    \n",
    "    \"\"\"\n",
    "    \n",
    "    today = datetime.date.today()\n",
    "    date_string = today.strftime(f'{loc}, le %d/%m/%Y')\n",
    "    author_strings = [date_string, \"### Authors\", \"\\n\"]\n",
    "    \n",
    "    \n",
    "    for author in authors_list:\n",
    "        firstname = author.get(\"firstname\", \"\")\n",
    "        lastname = author.get(\"lastname\", \"\")\n",
    "        if not lastname:\n",
    "            print('No value for lastname')\n",
    "        author_string = f'- {firstname} {lastname}'\n",
    "\n",
    "        author_strings.append(author_string)\n",
    "    return \"\\n\".join(author_strings)\n",
    "\n",
    "def header_from_json_file(path_to_json_file,loc=\"Paris\"):\n",
    "    \"\"\" Génère l'en-tête avec les informations d'auteurs depuis le fichier\n",
    "    donné en paramètre \"\"\"\n",
    "    try:\n",
    "        with open(path_to_json_file,\"r\") as authors_file:\n",
    "            authors = json.load(authors_file)\n",
    "            return create_header(authors,loc)\n",
    "    except FileNotFoundError:\n",
    "        print(\"### {} : not found\".format(path_to_json_file))\n",
    "        return \"\""
   ]
  },
  {
   "cell_type": "code",
   "execution_count": 104,
   "metadata": {},
   "outputs": [
    {
     "name": "stdout",
     "output_type": "stream",
     "text": [
      "loc=Londres, le 18/10/2019\n",
      "### Authors\n",
      "\n",
      "\n",
      "- John Lennon\n",
      "- Paul MacCartney\n",
      "- Georges Harrison\n"
     ]
    }
   ],
   "source": [
    "print(header_from_json_file(\"/home/hellday/Téléchargements/reporter/data/authors.json\",\"loc=Londres\"))"
   ]
  },
  {
   "cell_type": "markdown",
   "metadata": {},
   "source": [
    "Pour passer les arguments de fonction en fonction : \n",
    "    def ma_fonction (arg1, arg2 , **kwargs)\n",
    "    \n",
    "\"**kwargs\" = dictionnaire de key words argument\n",
    "\n",
    "\n",
    "Pas évident à utiliser. Faut être prudent.(\"c'est compliqué à utliser et c'est casse gueule\", sic)"
   ]
  },
  {
   "cell_type": "markdown",
   "metadata": {},
   "source": [
    "Debug\n",
    "---------\n",
    "\n",
    "Conseil : lors du dev, utiliser iPython si possible\n",
    "Debugger Python : pdb \n",
    "%pdb : active /désactive le debugger (iPython)\n",
    "Commandes de base : \"p\" : print, \"h\" : help, \"pdef\" : print funct def, \"u\" : up dans la liste d'execution et \"d\" pour down. \"c\" : continue.  "
   ]
  },
  {
   "cell_type": "code",
   "execution_count": 119,
   "metadata": {},
   "outputs": [
    {
     "name": "stdout",
     "output_type": "stream",
     "text": [
      "Automatic pdb calling has been turned ON\n"
     ]
    }
   ],
   "source": [
    "%pdb"
   ]
  },
  {
   "cell_type": "code",
   "execution_count": 120,
   "metadata": {},
   "outputs": [],
   "source": [
    "def boum(arg1,arg2):\n",
    "    \"\"\" Fonction qui explose quand on mélange 2 types\"\"\"\n",
    "    print(arg1 + arg2)"
   ]
  },
  {
   "cell_type": "code",
   "execution_count": 121,
   "metadata": {},
   "outputs": [
    {
     "data": {
      "text/plain": [
       "<function __main__.boum(arg1, arg2)>"
      ]
     },
     "execution_count": 121,
     "metadata": {},
     "output_type": "execute_result"
    }
   ],
   "source": [
    "boum\n"
   ]
  },
  {
   "cell_type": "code",
   "execution_count": 122,
   "metadata": {},
   "outputs": [
    {
     "ename": "TypeError",
     "evalue": "unsupported operand type(s) for +: 'int' and 'str'",
     "output_type": "error",
     "traceback": [
      "\u001b[0;31m---------------------------------------------------------------------------\u001b[0m",
      "\u001b[0;31mTypeError\u001b[0m                                 Traceback (most recent call last)",
      "\u001b[0;32m<ipython-input-122-8afc3627b120>\u001b[0m in \u001b[0;36m<module>\u001b[0;34m\u001b[0m\n\u001b[0;32m----> 1\u001b[0;31m \u001b[0mboum\u001b[0m\u001b[0;34m(\u001b[0m\u001b[0;36m1\u001b[0m\u001b[0;34m,\u001b[0m\u001b[0;34m\"a\"\u001b[0m\u001b[0;34m)\u001b[0m\u001b[0;34m\u001b[0m\u001b[0;34m\u001b[0m\u001b[0m\n\u001b[0m",
      "\u001b[0;32m<ipython-input-120-5bf976a942d2>\u001b[0m in \u001b[0;36mboum\u001b[0;34m(arg1, arg2)\u001b[0m\n\u001b[1;32m      1\u001b[0m \u001b[0;32mdef\u001b[0m \u001b[0mboum\u001b[0m\u001b[0;34m(\u001b[0m\u001b[0marg1\u001b[0m\u001b[0;34m,\u001b[0m\u001b[0marg2\u001b[0m\u001b[0;34m)\u001b[0m\u001b[0;34m:\u001b[0m\u001b[0;34m\u001b[0m\u001b[0;34m\u001b[0m\u001b[0m\n\u001b[0;32m----> 2\u001b[0;31m     \u001b[0mprint\u001b[0m\u001b[0;34m(\u001b[0m\u001b[0marg1\u001b[0m \u001b[0;34m+\u001b[0m \u001b[0marg2\u001b[0m\u001b[0;34m)\u001b[0m\u001b[0;34m\u001b[0m\u001b[0;34m\u001b[0m\u001b[0m\n\u001b[0m",
      "\u001b[0;31mTypeError\u001b[0m: unsupported operand type(s) for +: 'int' and 'str'"
     ]
    },
    {
     "name": "stdout",
     "output_type": "stream",
     "text": [
      "> \u001b[0;32m<ipython-input-120-5bf976a942d2>\u001b[0m(2)\u001b[0;36mboum\u001b[0;34m()\u001b[0m\n",
      "\u001b[0;32m      1 \u001b[0;31m\u001b[0;32mdef\u001b[0m \u001b[0mboum\u001b[0m\u001b[0;34m(\u001b[0m\u001b[0marg1\u001b[0m\u001b[0;34m,\u001b[0m\u001b[0marg2\u001b[0m\u001b[0;34m)\u001b[0m\u001b[0;34m:\u001b[0m\u001b[0;34m\u001b[0m\u001b[0;34m\u001b[0m\u001b[0m\n",
      "\u001b[0m\u001b[0;32m----> 2 \u001b[0;31m    \u001b[0mprint\u001b[0m\u001b[0;34m(\u001b[0m\u001b[0marg1\u001b[0m \u001b[0;34m+\u001b[0m \u001b[0marg2\u001b[0m\u001b[0;34m)\u001b[0m\u001b[0;34m\u001b[0m\u001b[0;34m\u001b[0m\u001b[0m\n",
      "\u001b[0m\n",
      "ipdb> h\n",
      "\n",
      "Documented commands (type help <topic>):\n",
      "========================================\n",
      "EOF    cl         disable  interact  next    psource  rv         unt   \n",
      "a      clear      display  j         p       q        s          until \n",
      "alias  commands   down     jump      pdef    quit     source     up    \n",
      "args   condition  enable   l         pdoc    r        step       w     \n",
      "b      cont       exit     list      pfile   restart  tbreak     whatis\n",
      "break  continue   h        ll        pinfo   return   u          where \n",
      "bt     d          help     longlist  pinfo2  retval   unalias  \n",
      "c      debug      ignore   n         pp      run      undisplay\n",
      "\n",
      "Miscellaneous help topics:\n",
      "==========================\n",
      "exec  pdb\n",
      "\n",
      "ipdb> p boum\n",
      "<function boum at 0x7fdc01634710>\n",
      "ipdb> pdef boum\n",
      " \u001b[0mboum\u001b[0m\u001b[0;34m(\u001b[0m\u001b[0marg1\u001b[0m\u001b[0;34m,\u001b[0m \u001b[0marg2\u001b[0m\u001b[0;34m)\u001b[0m\u001b[0;34m\u001b[0m\u001b[0;34m\u001b[0m\u001b[0m\n",
      " ipdb> u\n",
      "> \u001b[0;32m<ipython-input-122-8afc3627b120>\u001b[0m(1)\u001b[0;36m<module>\u001b[0;34m()\u001b[0m\n",
      "\u001b[0;32m----> 1 \u001b[0;31m\u001b[0mboum\u001b[0m\u001b[0;34m(\u001b[0m\u001b[0;36m1\u001b[0m\u001b[0;34m,\u001b[0m\u001b[0;34m\"a\"\u001b[0m\u001b[0;34m)\u001b[0m\u001b[0;34m\u001b[0m\u001b[0;34m\u001b[0m\u001b[0m\n",
      "\u001b[0m\n",
      "ipdb> q\n"
     ]
    }
   ],
   "source": [
    "boum(1,\"a\")"
   ]
  },
  {
   "cell_type": "markdown",
   "metadata": {},
   "source": [
    "Programmation objet\n",
    "------------------------------\n",
    "mot clé : class\n",
    "\n",
    "self : désigne l'objet lui-même. Conteneur permettant accès aux attributs et aux méthodes. \n",
    "\n",
    "Conseil : si on crée une fonction, essayer de lui donner un nom de verbe.\n",
    "\n",
    "On peut ajouter des nouveaux attributs à une instance d'objet. \n",
    "\n",
    "Le nom d'une classe prend une majuscule au début puis CamelCase.\n",
    "\n",
    "\"Pet\" est une \"Classe abstraite\". "
   ]
  },
  {
   "cell_type": "code",
   "execution_count": 55,
   "metadata": {},
   "outputs": [],
   "source": [
    "class Pet:\n",
    "    \"\"\" Classe gérant des animaux\"\"\"\n",
    "    def __init__(self,name,age,weight,size):\n",
    "        \"\"\" self = reference à l'objet lui-même \"\"\"\n",
    "        self.name = name\n",
    "        self.age = age\n",
    "        self.weight = weight\n",
    "        self.size = size\n",
    "        #self.bmi = self.weight / self.size**2 # calculé à l'initionalisation de la nouvelle instance \n",
    "                                              # de l'objet PET. Ne change pas si le poid change (static)\n",
    "    \n",
    "    @property                 # décorateur. Calcul un attribut dynamique pour la méthode directement dessus\n",
    "    def bmi(self):            # Body Mass Indice : weight / size au carré\n",
    "        \"\"\" calcule l'indice de masse corporelle \"\"\"\n",
    "        return self.weight/self.size**2 \n",
    "        \n",
    "    def walk(self,distance):\n",
    "        \"\"\" ajuste le poids en fonction de l'exercice \"\"\"\n",
    "        self.weight = self.weight - 0.1 * distance\n",
    "        \n",
    "    def eat(self,qtt):\n",
    "        \"\"\" Ajuste le poids en fonction de l'alimentation \n",
    "        La quantité (qtt) doit être strictement positive\"\"\"\n",
    "        if qtt > 0:\n",
    "           self.weight = self.weight + qtt \n",
    "           print(f\"{self.name} pèse maintenant {self.weight}\") \n",
    "        else:\n",
    "            print(\"La quantité doit être strictement positive\")\n",
    "            raise ValueError\n",
    "        "
   ]
  },
  {
   "cell_type": "code",
   "execution_count": 56,
   "metadata": {},
   "outputs": [],
   "source": [
    "medor = Pet(\"Médor\",2,7,0.71) # instance de Pet"
   ]
  },
  {
   "cell_type": "code",
   "execution_count": 59,
   "metadata": {},
   "outputs": [
    {
     "name": "stdout",
     "output_type": "stream",
     "text": [
      "Médor pèse maintenant 67\n"
     ]
    }
   ],
   "source": [
    "medor.eat(30)   # médor mange pour se remettre de l'exercice"
   ]
  },
  {
   "cell_type": "code",
   "execution_count": 60,
   "metadata": {},
   "outputs": [
    {
     "data": {
      "text/plain": [
       "67"
      ]
     },
     "execution_count": 60,
     "metadata": {},
     "output_type": "execute_result"
    }
   ],
   "source": [
    "medor.weight"
   ]
  },
  {
   "cell_type": "code",
   "execution_count": 28,
   "metadata": {},
   "outputs": [
    {
     "data": {
      "text/plain": [
       "25.3069320474676"
      ]
     },
     "execution_count": 28,
     "metadata": {},
     "output_type": "execute_result"
    }
   ],
   "source": [
    "medor.bmi"
   ]
  },
  {
   "cell_type": "code",
   "execution_count": 61,
   "metadata": {},
   "outputs": [
    {
     "data": {
      "text/plain": [
       "'p'"
      ]
     },
     "execution_count": 61,
     "metadata": {},
     "output_type": "execute_result"
    }
   ],
   "source": [
    "bytes.fromhex('70').decode('utf-8')"
   ]
  },
  {
   "cell_type": "markdown",
   "metadata": {},
   "source": [
    "Maintenant on veut ajouter le cri de l'animal. Problème : il change selon le type d'animal. Il faut donc ajouter\n",
    "une classe héritant des caratéristiques de Pet mais propre aux chats et aux chiens (c'est un exemple)"
   ]
  },
  {
   "cell_type": "code",
   "execution_count": 75,
   "metadata": {},
   "outputs": [],
   "source": [
    "class Pet:\n",
    "    \"\"\" Classe gérant des animaux\"\"\"\n",
    "    def __init__(self,name,age,weight,size):\n",
    "        \"\"\" self = reference à l'objet lui-même \"\"\"\n",
    "        self.name = name\n",
    "        self.age = age\n",
    "        self.weight = weight\n",
    "        self.size = size\n",
    "        #self.bmi = self.weight / self.size**2 # calculé à l'initionalisation de la nouvelle instance \n",
    "                                              # de l'objet PET. Ne change pas si le poid change (static)\n",
    "    \n",
    "    @property                 # décorateur. Calcul un attribut dynamique pour la méthode directement dessus\n",
    "    def bmi(self):            # Body Mass Indice : weight / size au carré\n",
    "        \"\"\" calcule l'indice de masse corporelle \"\"\"\n",
    "        return self.weight/self.size**2 \n",
    "        \n",
    "    def walk(self,distance):\n",
    "        \"\"\" ajuste le poids en fonction de l'exercice \"\"\"\n",
    "        self.weight = self.weight - 0.1 * distance\n",
    "        \n",
    "    def eat(self,qtt):\n",
    "        \"\"\" Ajuste le poids en fonction de l'alimentation \n",
    "        La quantité (qtt) doit être strictement positive\"\"\"\n",
    "        if qtt > 0:\n",
    "           self.weight = self.weight + qtt \n",
    "           print(f\"{self.name} pèse maintenant {self.weight}\") \n",
    "        else:\n",
    "            print(\"La quantité doit être strictement positive\")\n",
    "            raise ValueError\n",
    "    def speak(self):\n",
    "        \"\"\" Placeholder pour les méthodes de Cat and Dog \n",
    "        'speak n'est pas implémentée directement dans Pet mais on réserve \n",
    "        son espace pour fixer le nom, par convention. \n",
    "        Traditionnellement, on indique juste 'raise NotImplemented'\"\"\"       \n",
    "        raise NotImplemented\n",
    "            \n",
    "class Dog(Pet):\n",
    "    \"\"\" Classe héritant de Pet avec la parole pour les chiens \"\"\"\n",
    "    def speak(self):\n",
    "        print(\"whoa whoa\\n (Il lui manque que la parole)\")\n",
    "    \n",
    "class Cat(Pet):\n",
    "    \"\"\" Classe héritant de Pet avec la parole pour les chats \"\"\"\n",
    "    def speak(self):    \n",
    "        print(\"Miow miow\\n (Il lui manque que la parole\")\n"
   ]
  },
  {
   "cell_type": "code",
   "execution_count": 76,
   "metadata": {},
   "outputs": [],
   "source": [
    "medor = Dog(\"Médor\",1,2,2)\n",
    "felix = Cat(\"Félix\",1,2,3)"
   ]
  },
  {
   "cell_type": "code",
   "execution_count": 77,
   "metadata": {},
   "outputs": [
    {
     "name": "stdout",
     "output_type": "stream",
     "text": [
      "Miow miow\n",
      " (Il lui manque que la parole\n"
     ]
    }
   ],
   "source": [
    "felix.speak()"
   ]
  },
  {
   "cell_type": "code",
   "execution_count": 74,
   "metadata": {},
   "outputs": [
    {
     "name": "stdout",
     "output_type": "stream",
     "text": [
      "whoa whoa\n",
      " (Il lui manque que la parole)\n"
     ]
    }
   ],
   "source": [
    "medor.speak()"
   ]
  },
  {
   "cell_type": "markdown",
   "metadata": {},
   "source": [
    "On peut surcharger les méthodes spéciales (__XXX__) de la classe : __add__ (on redéfinit le comportement de l'addition de deux instances de la classe), __str__ (affichage de l'objet, ie : print)\n"
   ]
  },
  {
   "cell_type": "code",
   "execution_count": 81,
   "metadata": {},
   "outputs": [],
   "source": [
    "class Pet:\n",
    "    \"\"\" Classe gérant des animaux\"\"\"\n",
    "    def __init__(self,name,age,weight,size):\n",
    "        \"\"\" self = reference à l'objet lui-même \"\"\"\n",
    "        self.name = name\n",
    "        self.age = age\n",
    "        self.weight = weight\n",
    "        self.size = size\n",
    "        #self.bmi = self.weight / self.size**2 # calculé à l'initionalisation de la nouvelle instance \n",
    "                                              # de l'objet PET. Ne change pas si le poid change (static)\n",
    "    \n",
    "    @property                 # décorateur. Calcul un attribut dynamique pour la méthode directement dessus\n",
    "    def bmi(self):            # Body Mass Indice : weight / size au carré\n",
    "        \"\"\" calcule l'indice de masse corporelle \"\"\"\n",
    "        return self.weight/self.size**2 \n",
    "        \n",
    "    def walk(self,distance):\n",
    "        \"\"\" ajuste le poids en fonction de l'exercice \"\"\"\n",
    "        self.weight = self.weight - 0.1 * distance\n",
    "        \n",
    "    def eat(self,qtt):\n",
    "        \"\"\" Ajuste le poids en fonction de l'alimentation \n",
    "        La quantité (qtt) doit être strictement positive\"\"\"\n",
    "        if qtt > 0:\n",
    "           self.weight = self.weight + qtt \n",
    "           print(f\"{self.name} pèse maintenant {self.weight}\") \n",
    "        else:\n",
    "            print(\"La quantité doit être strictement positive\")\n",
    "            raise ValueError\n",
    "            \n",
    "    def speak(self):\n",
    "        \"\"\" Placeholder pour les méthodes de Cat and Dog \n",
    "        'speak n'est pas implémentée directement dans Pet mais on réserve \n",
    "        son espace pour fixer le nom, par convention. \n",
    "        Traditionnellement, on indique juste 'raise NotImplemented'\"\"\"       \n",
    "        raise NotImplemented\n",
    "    \n",
    "    def __str__(self):\n",
    "        \"\"\" on surcharge __str__ pour formater l'information lors d'un print \"\"\"\n",
    "        return f\"hello my name is {self.name}\"\n",
    "            \n",
    "class Dog(Pet):\n",
    "    \"\"\" Classe héritant de Pet avec la parole pour les chiens \"\"\"\n",
    "    def speak(self):\n",
    "        print(\"whoa whoa\\n (Il lui manque que la parole)\")\n",
    "    \n",
    "class Cat(Pet):\n",
    "    \"\"\" Classe héritant de Pet avec la parole pour les chats \"\"\"\n",
    "    def speak(self):    \n",
    "        print(\"Miow miow\\n (Il lui manque que la parole\")\n"
   ]
  },
  {
   "cell_type": "code",
   "execution_count": 79,
   "metadata": {},
   "outputs": [],
   "source": [
    "medor = Dog(\"Médor\",1,2,2)\n",
    "felix = Cat(\"Félix\",1,2,3)"
   ]
  },
  {
   "cell_type": "code",
   "execution_count": 80,
   "metadata": {},
   "outputs": [
    {
     "name": "stdout",
     "output_type": "stream",
     "text": [
      "hello my name is Médor\n"
     ]
    }
   ],
   "source": [
    "print(medor)"
   ]
  },
  {
   "cell_type": "code",
   "execution_count": 84,
   "metadata": {},
   "outputs": [
    {
     "data": {
      "text/plain": [
       "int"
      ]
     },
     "execution_count": 84,
     "metadata": {},
     "output_type": "execute_result"
    }
   ],
   "source": [
    "(0x3D)"
   ]
  },
  {
   "cell_type": "code",
   "execution_count": 86,
   "metadata": {},
   "outputs": [
    {
     "data": {
      "text/plain": [
       "61"
      ]
     },
     "execution_count": 86,
     "metadata": {},
     "output_type": "execute_result"
    }
   ],
   "source": [
    "int(\"0x3D\",16)"
   ]
  },
  {
   "cell_type": "code",
   "execution_count": null,
   "metadata": {},
   "outputs": [],
   "source": [
    "import os\n",
    "import sys\n",
    "import json\n",
    "import datetime\n",
    "from pathlib import Path\n",
    "\n",
    "\n",
    "def create_header(authors_list, loc=\"Paris\"):\n",
    "    \"\"\"Creates the header text.\n",
    "    \n",
    "    Parameters\n",
    "    ----------\n",
    "    authors_list: a list of dict\n",
    "        each dictionnary should contain \"firstname\" and \"lastname\" keys\n",
    "    loc : str, optional, default \"Paris\"\n",
    "        The localistaion from where the report is emitted\n",
    "    \n",
    "    Returns\n",
    "    -------\n",
    "    header_text : str\n",
    "        The header text\n",
    "    \n",
    "    \"\"\"\n",
    "    \n",
    "    today = datetime.date.today()\n",
    "    date_string = today.strftime(f'{loc}, le %d/%m/%Y')\n",
    "    author_strings = [date_string, \"### Authors\", \"\\n\"]\n",
    "    \n",
    "    \n",
    "    for author in authors_list:\n",
    "        firstname = author.get(\"firstname\", \"\")\n",
    "        lastname = author.get(\"lastname\", \"\")\n",
    "        if not lastname:\n",
    "            print('No value for lastname')\n",
    "        author_string = f'- {firstname} {lastname}'\n",
    "\n",
    "        author_strings.append(author_string)\n",
    "    return \"\\n\".join(author_strings)\n",
    "\n",
    "def header_from_json_file(path_to_json_file,loc=\"Paris\"):\n",
    "    \"\"\" Génère l'en-tête avec les informations d'auteurs depuis le fichier\n",
    "    donné en paramètre \"\"\"\n",
    "    try:\n",
    "        with open(path_to_json_file,\"r\") as authors_file:\n",
    "            authors = json.load(authors_file)\n",
    "            return create_header(authors,loc)\n",
    "    except FileNotFoundError:\n",
    "        print(\"### {} : not found\".format(path_to_json_file))\n",
    "        return \"\""
   ]
  },
  {
   "cell_type": "markdown",
   "metadata": {},
   "source": [
    "Exemple de connexion sur une base de données\n",
    "---------------------------------------------\n",
    "... exemple avec SQLlite mais quand même . \n"
   ]
  },
  {
   "cell_type": "markdown",
   "metadata": {},
   "source": [
    "Exo : On veut un histogramme des chansons de la durée par genre \n"
   ]
  },
  {
   "cell_type": "code",
   "execution_count": 119,
   "metadata": {},
   "outputs": [],
   "source": [
    "import sqlite3       # si plus complexe : SQLAlchemy\n",
    "import pandas as pd  # pour visualiser facilement \n",
    "import matplotlib as mpt"
   ]
  },
  {
   "cell_type": "code",
   "execution_count": 154,
   "metadata": {},
   "outputs": [],
   "source": [
    "with sqlite3.connect('./chinook.db') as conn:\n",
    "    tracks = pd.read_sql('select g.Name,avg(t.Milliseconds) as moy_mil from Tracks t, Genres g where g.GenreId = t.GenreId  group by t.GenreId ', conn)\n",
    "    "
   ]
  },
  {
   "cell_type": "code",
   "execution_count": 158,
   "metadata": {},
   "outputs": [
    {
     "data": {
      "text/html": [
       "<div>\n",
       "<style scoped>\n",
       "    .dataframe tbody tr th:only-of-type {\n",
       "        vertical-align: middle;\n",
       "    }\n",
       "\n",
       "    .dataframe tbody tr th {\n",
       "        vertical-align: top;\n",
       "    }\n",
       "\n",
       "    .dataframe thead th {\n",
       "        text-align: right;\n",
       "    }\n",
       "</style>\n",
       "<table border=\"1\" class=\"dataframe\">\n",
       "  <thead>\n",
       "    <tr style=\"text-align: right;\">\n",
       "      <th></th>\n",
       "      <th>Name</th>\n",
       "    </tr>\n",
       "    <tr>\n",
       "      <th>moy_mil</th>\n",
       "      <th></th>\n",
       "    </tr>\n",
       "  </thead>\n",
       "  <tbody>\n",
       "    <tr>\n",
       "      <td>2.839100e+05</td>\n",
       "      <td>Rock</td>\n",
       "    </tr>\n",
       "    <tr>\n",
       "      <td>2.917554e+05</td>\n",
       "      <td>Jazz</td>\n",
       "    </tr>\n",
       "    <tr>\n",
       "      <td>3.097494e+05</td>\n",
       "      <td>Metal</td>\n",
       "    </tr>\n",
       "    <tr>\n",
       "      <td>2.343538e+05</td>\n",
       "      <td>Alternative &amp; Punk</td>\n",
       "    </tr>\n",
       "    <tr>\n",
       "      <td>1.346435e+05</td>\n",
       "      <td>Rock And Roll</td>\n",
       "    </tr>\n",
       "    <tr>\n",
       "      <td>2.703598e+05</td>\n",
       "      <td>Blues</td>\n",
       "    </tr>\n",
       "    <tr>\n",
       "      <td>2.328593e+05</td>\n",
       "      <td>Latin</td>\n",
       "    </tr>\n",
       "    <tr>\n",
       "      <td>2.471778e+05</td>\n",
       "      <td>Reggae</td>\n",
       "    </tr>\n",
       "    <tr>\n",
       "      <td>2.290341e+05</td>\n",
       "      <td>Pop</td>\n",
       "    </tr>\n",
       "    <tr>\n",
       "      <td>2.443709e+05</td>\n",
       "      <td>Soundtrack</td>\n",
       "    </tr>\n",
       "    <tr>\n",
       "      <td>2.195900e+05</td>\n",
       "      <td>Bossa Nova</td>\n",
       "    </tr>\n",
       "    <tr>\n",
       "      <td>1.891642e+05</td>\n",
       "      <td>Easy Listening</td>\n",
       "    </tr>\n",
       "    <tr>\n",
       "      <td>2.974529e+05</td>\n",
       "      <td>Heavy Metal</td>\n",
       "    </tr>\n",
       "    <tr>\n",
       "      <td>2.200669e+05</td>\n",
       "      <td>R&amp;B/Soul</td>\n",
       "    </tr>\n",
       "    <tr>\n",
       "      <td>3.029858e+05</td>\n",
       "      <td>Electronica/Dance</td>\n",
       "    </tr>\n",
       "    <tr>\n",
       "      <td>2.249238e+05</td>\n",
       "      <td>World</td>\n",
       "    </tr>\n",
       "    <tr>\n",
       "      <td>1.781763e+05</td>\n",
       "      <td>Hip Hop/Rap</td>\n",
       "    </tr>\n",
       "    <tr>\n",
       "      <td>2.625549e+06</td>\n",
       "      <td>Science Fiction</td>\n",
       "    </tr>\n",
       "    <tr>\n",
       "      <td>2.145041e+06</td>\n",
       "      <td>TV Shows</td>\n",
       "    </tr>\n",
       "    <tr>\n",
       "      <td>2.911783e+06</td>\n",
       "      <td>Sci Fi &amp; Fantasy</td>\n",
       "    </tr>\n",
       "    <tr>\n",
       "      <td>2.575284e+06</td>\n",
       "      <td>Drama</td>\n",
       "    </tr>\n",
       "    <tr>\n",
       "      <td>1.585264e+06</td>\n",
       "      <td>Comedy</td>\n",
       "    </tr>\n",
       "    <tr>\n",
       "      <td>2.640585e+05</td>\n",
       "      <td>Alternative</td>\n",
       "    </tr>\n",
       "    <tr>\n",
       "      <td>2.938676e+05</td>\n",
       "      <td>Classical</td>\n",
       "    </tr>\n",
       "    <tr>\n",
       "      <td>1.748130e+05</td>\n",
       "      <td>Opera</td>\n",
       "    </tr>\n",
       "  </tbody>\n",
       "</table>\n",
       "</div>"
      ],
      "text/plain": [
       "                            Name\n",
       "moy_mil                         \n",
       "2.839100e+05                Rock\n",
       "2.917554e+05                Jazz\n",
       "3.097494e+05               Metal\n",
       "2.343538e+05  Alternative & Punk\n",
       "1.346435e+05       Rock And Roll\n",
       "2.703598e+05               Blues\n",
       "2.328593e+05               Latin\n",
       "2.471778e+05              Reggae\n",
       "2.290341e+05                 Pop\n",
       "2.443709e+05          Soundtrack\n",
       "2.195900e+05          Bossa Nova\n",
       "1.891642e+05      Easy Listening\n",
       "2.974529e+05         Heavy Metal\n",
       "2.200669e+05            R&B/Soul\n",
       "3.029858e+05   Electronica/Dance\n",
       "2.249238e+05               World\n",
       "1.781763e+05         Hip Hop/Rap\n",
       "2.625549e+06     Science Fiction\n",
       "2.145041e+06            TV Shows\n",
       "2.911783e+06    Sci Fi & Fantasy\n",
       "2.575284e+06               Drama\n",
       "1.585264e+06              Comedy\n",
       "2.640585e+05         Alternative\n",
       "2.938676e+05           Classical\n",
       "1.748130e+05               Opera"
      ]
     },
     "execution_count": 158,
     "metadata": {},
     "output_type": "execute_result"
    }
   ],
   "source": [
    "tracks.set_index('moy_mil')"
   ]
  },
  {
   "cell_type": "code",
   "execution_count": 160,
   "metadata": {},
   "outputs": [
    {
     "data": {
      "image/png": "[encoded data removed]",
      "text/plain": [
       "<Figure size 432x288 with 1 Axes>"
      ]
     },
     "metadata": {
      "needs_background": "light"
     },
     "output_type": "display_data"
    }
   ],
   "source": [
    "histo = tracks.plot.bar(x='Name', y='moy_mil')"
   ]
  },
  {
   "cell_type": "markdown",
   "metadata": {},
   "source": [
    "Pour des graphes plus jolis : seaborn "
   ]
  },
  {
   "cell_type": "markdown",
   "metadata": {},
   "source": [
    "Appel des commandes système : subprocess\n",
    "-----------------------------------------------------------------\n",
    "Il prend en entrée un tableau des mots de la commande à exécuter\n",
    "\n",
    "Ex : subprocess.run([\"ps\",\"auxwww\",\"grep\",\"grep\"])\n",
    "\n",
    "Il existe os.system : mais plus vieux et moins bien. "
   ]
  },
  {
   "cell_type": "code",
   "execution_count": 168,
   "metadata": {},
   "outputs": [],
   "source": [
    "import subprocess\n",
    "ps = subprocess.run([\"ps\",\"auxwww\"])"
   ]
  },
  {
   "cell_type": "code",
   "execution_count": null,
   "metadata": {},
   "outputs": [],
   "source": []
  }
 ],
 "metadata": {
  "kernelspec": {
   "display_name": "Python 3",
   "language": "python",
   "name": "python3"
  },
  "language_info": {
   "codemirror_mode": {
    "name": "ipython",
    "version": 3
   },
   "file_extension": ".py",
   "mimetype": "text/x-python",
   "name": "python",
   "nbconvert_exporter": "python",
   "pygments_lexer": "ipython3",
   "version": "3.7.4"
  }
 },
 "nbformat": 4,
 "nbformat_minor": 2
}
